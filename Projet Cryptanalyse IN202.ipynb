{
 "cells": [
  {
   "cell_type": "markdown",
   "metadata": {},
   "source": [
    "# Cryptanalyse\n",
    "\n",
    "Votre mission, si vous l'acceptez, est de déchiffrer 4 textes de difficulté croissante en vous aidant d'un programme python que vous allez écrire.\n",
    "\n",
    "\n",
    "- Les fichiers ont été cryptés avec des méthodes données en cours.\n",
    "- Les fichiers chiffrés contiennent des textes en ASCII. Une fois déchiffrés ils vous donneront des informations.\n",
    "- Vous devez vous baser sur les fréquences d'apparition des lettres en français (et des paires de lettres) pour casser les codes. Faire une fonction de calcul pour vous aider.\n",
    "- Penser à réutliser le code du td de cryptographie comme base de travail.\n",
    "- Le code de votre programme doit être sur github et vous fournirez un lien vers votre projet github avec le code et le résultat du décodage\n",
    "en le déposant sur Moodle avant le mercredi 12 mai.\n",
    "- Une soutenance sera organisée le 17 mai.\n",
    "\n",
    "\n"
   ]
  },
  {
   "cell_type": "code",
   "execution_count": 1,
   "metadata": {},
   "outputs": [],
   "source": [
    "alphabet = []\n",
    "\n",
    "def alphabet_vide():\n",
    "    for i in range(97, 123):\n",
    "        alphabet.append([chr(i), 0.0])\n",
    "def vide():\n",
    "    for x in alphabet:\n",
    "        x[1] = 0.0\n",
    "\n",
    "alphabet_vide()"
   ]
  },
  {
   "cell_type": "code",
   "execution_count": 2,
   "metadata": {},
   "outputs": [],
   "source": [
    "def nbrOccur(texte):\n",
    "    vide()\n",
    "    for c in texte:\n",
    "        if 97 <= ord(c) <= 122 : #vérifier si c'est une lettre\n",
    "            alphabet[ord(c)-97][1] += round (1 / len(texte)* 100, 3)\n"
   ]
  },
  {
   "cell_type": "code",
   "execution_count": 3,
   "metadata": {},
   "outputs": [],
   "source": [
    "nbrOccur('bonjour')"
   ]
  },
  {
   "cell_type": "code",
   "execution_count": 4,
   "metadata": {},
   "outputs": [
    {
     "output_type": "stream",
     "name": "stdout",
     "text": [
      "[['a', 0.0], ['b', 14.286], ['c', 0.0], ['d', 0.0], ['e', 0.0], ['f', 0.0], ['g', 0.0], ['h', 0.0], ['i', 0.0], ['j', 14.286], ['k', 0.0], ['l', 0.0], ['m', 0.0], ['n', 14.286], ['o', 28.572], ['p', 0.0], ['q', 0.0], ['r', 14.286], ['s', 0.0], ['t', 0.0], ['u', 14.286], ['v', 0.0], ['w', 0.0], ['x', 0.0], ['y', 0.0], ['z', 0.0]]\n"
     ]
    }
   ],
   "source": [
    "print(alphabet)"
   ]
  },
  {
   "cell_type": "code",
   "execution_count": null,
   "metadata": {},
   "outputs": [],
   "source": []
  },
  {
   "cell_type": "code",
   "execution_count": null,
   "metadata": {},
   "outputs": [],
   "source": []
  },
  {
   "cell_type": "code",
   "execution_count": null,
   "metadata": {},
   "outputs": [],
   "source": []
  },
  {
   "cell_type": "code",
   "execution_count": null,
   "metadata": {},
   "outputs": [],
   "source": []
  },
  {
   "cell_type": "code",
   "execution_count": 30,
   "metadata": {},
   "outputs": [],
   "source": [
    "import tkinter as tk\n",
    "\n",
    "alphabet = []\n",
    "\n",
    "\n",
    "def alphabet_vide():\n",
    "    for i in range(97, 123):\n",
    "        alphabet.append([chr(i), 0.0])\n",
    "\n",
    "\n",
    "def vide():\n",
    "    for x in alphabet:\n",
    "        x[1] = 0.0\n",
    "\n",
    "\n",
    "alphabet_vide()\n",
    "\n",
    "\n",
    "def nbr_occur(texte):\n",
    "    vide()\n",
    "    for c in texte:\n",
    "        if 97 <= ord(c) <= 122:  # Vérifier si c'est une léttre\n",
    "            alphabet[ord(c) - 97][1] += round(l / len(texte) * 100, 3)\n",
    "\n",
    "\n",
    "def rang(lettre):\n",
    "    return ord(lettre) - 97\n",
    "\n",
    "\n",
    "def decalage(lettre1, lettre2):\n",
    "    if ord(lettre1) < 97 or ord(lettre1) > 122:\n",
    "        return lettre1\n",
    "    return chr(((rang(lettre1) + rang(lettre2)) % 26) + 97)\n",
    "\n",
    "\n",
    "def dec_texte(texte, cle):\n",
    "    taille_cle = len(cle)\n",
    "    res = \"\"\n",
    "    for i in range(len(texte)):\n",
    "        res += decalage(texte[i], cle[i % taille_cle])\n",
    "    return res\n",
    "\n",
    "\n",
    "def chiffre():\n",
    "    resultat.delete(0, tk.END)\n",
    "    text = entree_texte.get()\n",
    "    cle = entree_cle.get()\n",
    "    if (len(text) > 0) and (len(cle) > 0):\n",
    "        res = dec_texte(text, cle)\n",
    "        resultat.insert(0, res)\n",
    "    else:\n",
    "        resultat.insert(0, \"Il manque quelque chose\")\n",
    "\n",
    "\n",
    "racine = tk.Tk()\n",
    "racine.title(\"Cryptographie\")\n",
    "\n",
    "entree_texte = tk.Entry(racine, width=50, font=(\"helvetica\", \"20\"))\n",
    "entree_texte.grid(row=0, column=0)\n",
    "\n",
    "entree_cle = tk.Entry(racine, width=50, font=(\"helvetica\", \"20\"))\n",
    "entree_cle.grid(row=1, column=0)\n",
    "\n",
    "label_texte = tk.Label(racine, font=(\"helvetica\", \"20\"), text=\"Entrer le message ici.\")\n",
    "label_texte.grid(row=0, column=1)\n",
    "\n",
    "label_cle = tk.Label(racine, font=(\"helvetica\", \"20\"), text=\"Entrer la clé ici.\")\n",
    "label_cle.grid(row=1, column=1)\n",
    "\n",
    "label_dech = tk.Label(racine, font=(\"helvetica\", \"28\"), text=\"Déchiffre ici\")\n",
    "label_dech.grid(row=3, column=1)\n",
    "\n",
    "bouton_coder = tk.Button(racine, text=\"Déchiffrer texte\", fg=\"black\", width=15, command=chiffre)\n",
    "bouton_coder.grid(row=2, column=0)\n",
    "\n",
    "bouton_decoder = tk.Button(racine, text=\"Déchiffrer texte\", fg=\"black\", width=15, command=chiffre)\n",
    "bouton_decoder.grid(row=2, column=1)\n",
    "\n",
    "resultat = tk.Entry(racine, width=50, font=(\"helvetica\", \"20\"))\n",
    "resultat.grid(row=3, column=0)\n",
    "\n",
    "racine.mainloop()\n",
    "\n",
    "# Message initial = kd oqnbgzhm ehbghdq ztqz tm bncd ozq rtarshstshnm zkogzadshptd: bgzptd kdssqd drs qdlokzbdd ozq tmd ztsqd. tshkhrdq kz eqdptdmbd cdr kdssqdr ontq cdbncdq kd ldrrzfd.\n",
    "# Clé = b\n",
    "# Message final = le prochain fichier aura un code par substitution alphabetique: chaque lettre est remplacee par une autre. utiliser la frequence des lettres pour decoder le message."
   ]
  },
  {
   "cell_type": "code",
   "execution_count": null,
   "metadata": {},
   "outputs": [],
   "source": []
  },
  {
   "cell_type": "code",
   "execution_count": null,
   "metadata": {},
   "outputs": [],
   "source": []
  },
  {
   "cell_type": "code",
   "execution_count": 192,
   "metadata": {
    "tags": []
   },
   "outputs": [
    {
     "output_type": "stream",
     "name": "stdout",
     "text": [
      "[['x', 15.912000000000004], ['i', 7.514000000000002], ['u', 7.514000000000002], ['g', 6.1880000000000015], ['c', 4.862000000000001], ['d', 4.862000000000001], ['k', 4.862000000000001], ['n', 4.420000000000001], ['o', 4.420000000000001], ['s', 4.420000000000001], ['v', 3.5360000000000005], ['y', 2.652], ['f', 2.21], ['q', 2.21], ['l', 1.326], ['w', 1.326], ['m', 0.884], ['a', 0.442], ['b', 0.0], ['e', 0.0], ['h', 0.0], ['j', 0.0], ['p', 0.0], ['r', 0.0], ['t', 0.0], ['z', 0.0]]\n<function decoder at 0x000001F6E6CE41F0>\nle prochain fichier est code par un mot de passe de taille inconnue et contient l'indice. les lettres du mot de passe permettent de decaler les lettres du message original modulo 26. seules les lettres de a a b sont chiffrees."
     ]
    }
   ],
   "source": [
    "alphabet = []\n",
    "frequence_lettrefr = ['e','s','t','l','d','n','i','a','r','o','c','u','m','p','h','f','g','b','f','q','y','x','j','k','w','z']\n",
    "texte_code= \"gx qosvlnkd wkvlkxo xiu vscx qno yd fsu cx qniix cx unkggx kdvsddyx xu vsdukxdu g'kdckvx. gxi gxuuoxi cy fsu cx qniix qxofxuuxdu cx cxvngxo gxi gxuuoxi cy fxiinmx sokmkdng fscygs 26. ixygxi gxi gxuuoxi cx n n a isdu vlkwwoxxi.\"\n",
    "\n",
    "texte = []\n",
    "\n",
    "def alphabet_vide():\n",
    "    for i in range(97, 123):\n",
    "        alphabet.append([chr(i), 0.0])\n",
    "\n",
    "def vide():\n",
    "    for x in alphabet:\n",
    "        x[1] = 0.0\n",
    "\n",
    "alphabet_vide()\n",
    "def nbr_occur(texte):\n",
    "    vide()\n",
    "    for c in texte:\n",
    "        if 97 <= ord(c) <= 122:  # Vérifier si c'est une léttre\n",
    "            alphabet[ord(c) - 97][1] += round(1 / len(texte) * 100, 3)\n",
    "\n",
    "nbr_occur(texte_code)\n",
    "\n",
    "\n",
    "alphabetdecroissant = alphabet\n",
    "alphabet.sort(reverse=True,key=lambda x: x[1])\n",
    "print(alphabet)\n",
    "\n",
    "def decoder():\n",
    "    for l in texte_code:\n",
    "        if ord(l)>= 97 and ord(l)<=122:\n",
    "            for j in range(len(alphabetdecroissant)):\n",
    "                if l == alphabetdecroissant[j][0]:\n",
    "                    texte.append(frequence_lettrefr[j])\n",
    "        else:\n",
    "            texte.append(l)\n",
    "\n",
    "decoder()\n",
    "for k in texte:\n",
    "    print(k, end='')"
   ]
  },
  {
   "cell_type": "code",
   "execution_count": 1,
   "metadata": {},
   "outputs": [],
   "source": []
  },
  {
   "cell_type": "code",
   "execution_count": 28,
   "metadata": {},
   "outputs": [],
   "source": []
  },
  {
   "cell_type": "code",
   "execution_count": 191,
   "metadata": {},
   "outputs": [
    {
     "output_type": "stream",
     "name": "stdout",
     "text": [
      "[1, 2, 3, 4, 5, 6, 7, 8, 9, 10, 11, 12, 13, 14, 15, 16, 17, 18, 19, 20, 21, 22, 23, 24, 25, 26]\n[]\n"
     ]
    }
   ],
   "source": [
    "alphabet = [\"a\",\"b\",\"c\",\"d\",\"e\",\"f\",\"g\",\"h\",\"i\",\"j\",\"k\",\"l\",\"m\",\"n\",\"o\",\"p\",\"q\",\"r\",\"s\",\"t\",\"u\",\"v\",\"w\",\"x\",\"y\",\"z\"]\n",
    "alphabet_nbr = []\n",
    "texte_code = \"dceuq e n'ehfp cg p'kyhhep uqfw cgiy citudm c gzudiq ni ezhd px c jhptv ep cggsht. kg hdtymdt xdzei gdx rzyq wir mvzxpw, cifcchdb znwd ccyw wy lkcsht, dp isgd uqfw wy ?\"\n",
    "cle = [\"x\",\"o\",\"v\",\"a\"]\n",
    "texte = []\n",
    "\n",
    "def alphabet_vide():\n",
    "    for i in range(97, 123):\n",
    "        alphabet.append([chr(i), 0.0])\n",
    "\n",
    "def nbr_lettre():\n",
    "   for i in range (0,len(alphabet)):\n",
    "       alphabet[i] = i+1\n",
    "       alphabet_nbr.append(i+1)\n",
    "\n",
    "def decoder():\n",
    "    for i in texte_code:\n",
    "        for j in range(len(alphabet)):\n",
    "            if i == alphabet[j]:\n",
    "                    texte.append(alphabet_nbr[j])\n",
    "\n",
    "nbr_lettre()\n",
    "decoder()\n",
    "print(alphabet_nbr)\n",
    "print(texte)"
   ]
  },
  {
   "cell_type": "code",
   "execution_count": 152,
   "metadata": {},
   "outputs": [],
   "source": [
    "\n"
   ]
  },
  {
   "cell_type": "code",
   "execution_count": null,
   "metadata": {},
   "outputs": [],
   "source": []
  }
 ],
 "metadata": {
  "kernelspec": {
   "name": "python388jvsc74a57bd03fcbadbd41ea6b92253e5726b2eeeba90d1a9627dcfc1aab1c683d4d38e18a24",
   "display_name": "Python 3.8.8 64-bit ('l1-python': conda)"
  },
  "language_info": {
   "codemirror_mode": {
    "name": "ipython",
    "version": 3
   },
   "file_extension": ".py",
   "mimetype": "text/x-python",
   "name": "python",
   "nbconvert_exporter": "python",
   "pygments_lexer": "ipython3",
   "version": "3.8.8"
  }
 },
 "nbformat": 4,
 "nbformat_minor": 2
}